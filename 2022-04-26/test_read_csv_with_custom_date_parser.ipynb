{
 "cells": [
  {
   "cell_type": "code",
   "execution_count": 1,
   "metadata": {},
   "outputs": [],
   "source": [
    "%load_ext blackcellmagic"
   ]
  },
  {
   "cell_type": "code",
   "execution_count": 5,
   "metadata": {},
   "outputs": [],
   "source": [
    "import numpy as np\n",
    "import pandas as pd\n",
    "from io import StringIO\n",
    "\n",
    "from pandas import DataFrame\n",
    "import pandas._testing as tm\n",
    "\n",
    "\n",
    "def test_read_csv_with_custom_date_parser(all_parsers):\n",
    "    # GH36111\n",
    "    def __custom_date_parser(time):\n",
    "        time = time.astype(np.float_)\n",
    "        time = time.astype(np.int_)  # convert float seconds to int type\n",
    "        return pd.to_timedelta(time, unit=\"s\")\n",
    "\n",
    "    testdata = StringIO(\n",
    "        \"\"\"time e n h\n",
    "        41047.00 -98573.7297 871458.0640 389.0089\n",
    "        41048.00 -98573.7299 871458.0640 389.0089\n",
    "        41049.00 -98573.7300 871458.0642 389.0088\n",
    "        41050.00 -98573.7299 871458.0643 389.0088\n",
    "        41051.00 -98573.7302 871458.0640 389.0086\n",
    "        \"\"\"\n",
    "    )\n",
    "    result = all_parsers.read_csv(\n",
    "        testdata,\n",
    "        delim_whitespace=True,\n",
    "        parse_dates=True,\n",
    "        date_parser=__custom_date_parser,\n",
    "        index_col=\"time\",\n",
    "    )\n",
    "    time = [41047, 41048, 41049, 41050, 41051]\n",
    "    time = pd.TimedeltaIndex([pd.to_timedelta(i, unit=\"s\") for i in time], name=\"time\")\n",
    "    expected = DataFrame(\n",
    "        {\n",
    "            \"e\": [-98573.7297, -98573.7299, -98573.7300, -98573.7299, -98573.7302],\n",
    "            \"n\": [871458.0640, 871458.0640, 871458.0642, 871458.0643, 871458.0640],\n",
    "            \"h\": [389.0089, 389.0089, 389.0088, 389.0088, 389.0086],\n",
    "        },\n",
    "        index=time,\n",
    "    )\n",
    "\n",
    "    tm.assert_frame_equal(result, expected)"
   ]
  },
  {
   "cell_type": "code",
   "execution_count": 13,
   "metadata": {},
   "outputs": [
    {
     "name": "stdout",
     "output_type": "stream",
     "text": [
      "time e n h\n",
      "        41047.00 -98573.7297 871458.0640 389.0089\n",
      "        41048.00 -98573.7299 871458.0640 389.0089\n",
      "        41049.00 -98573.7300 871458.0642 389.0088\n",
      "        41050.00 -98573.7299 871458.0643 389.0088\n",
      "        41051.00 -98573.7302 871458.0640 389.0086\n",
      "        \n"
     ]
    }
   ],
   "source": [
    "# StringIO https://docs.python.org/ja/3.9/library/io.html#io.StringIO\n",
    "# file object のように見えるオブジェクトを作成\n",
    "\n",
    "testdata = StringIO(\n",
    "        \"\"\"time e n h\n",
    "        41047.00 -98573.7297 871458.0640 389.0089\n",
    "        41048.00 -98573.7299 871458.0640 389.0089\n",
    "        41049.00 -98573.7300 871458.0642 389.0088\n",
    "        41050.00 -98573.7299 871458.0643 389.0088\n",
    "        41051.00 -98573.7302 871458.0640 389.0086\n",
    "        \"\"\"\n",
    "    )\n",
    "print(testdata.getvalue())\n",
    "testdata.close()"
   ]
  },
  {
   "cell_type": "code",
   "execution_count": 6,
   "metadata": {},
   "outputs": [
    {
     "data": {
      "text/html": [
       "<div>\n",
       "<style scoped>\n",
       "    .dataframe tbody tr th:only-of-type {\n",
       "        vertical-align: middle;\n",
       "    }\n",
       "\n",
       "    .dataframe tbody tr th {\n",
       "        vertical-align: top;\n",
       "    }\n",
       "\n",
       "    .dataframe thead th {\n",
       "        text-align: right;\n",
       "    }\n",
       "</style>\n",
       "<table border=\"1\" class=\"dataframe\">\n",
       "  <thead>\n",
       "    <tr style=\"text-align: right;\">\n",
       "      <th></th>\n",
       "      <th>e</th>\n",
       "      <th>n</th>\n",
       "      <th>h</th>\n",
       "    </tr>\n",
       "    <tr>\n",
       "      <th>time</th>\n",
       "      <th></th>\n",
       "      <th></th>\n",
       "      <th></th>\n",
       "    </tr>\n",
       "  </thead>\n",
       "  <tbody>\n",
       "    <tr>\n",
       "      <th>0 days 11:24:07</th>\n",
       "      <td>-98573.7297</td>\n",
       "      <td>871458.0640</td>\n",
       "      <td>389.0089</td>\n",
       "    </tr>\n",
       "    <tr>\n",
       "      <th>0 days 11:24:08</th>\n",
       "      <td>-98573.7299</td>\n",
       "      <td>871458.0640</td>\n",
       "      <td>389.0089</td>\n",
       "    </tr>\n",
       "    <tr>\n",
       "      <th>0 days 11:24:09</th>\n",
       "      <td>-98573.7300</td>\n",
       "      <td>871458.0642</td>\n",
       "      <td>389.0088</td>\n",
       "    </tr>\n",
       "    <tr>\n",
       "      <th>0 days 11:24:10</th>\n",
       "      <td>-98573.7299</td>\n",
       "      <td>871458.0643</td>\n",
       "      <td>389.0088</td>\n",
       "    </tr>\n",
       "    <tr>\n",
       "      <th>0 days 11:24:11</th>\n",
       "      <td>-98573.7302</td>\n",
       "      <td>871458.0640</td>\n",
       "      <td>389.0086</td>\n",
       "    </tr>\n",
       "  </tbody>\n",
       "</table>\n",
       "</div>"
      ],
      "text/plain": [
       "                          e            n         h\n",
       "time                                              \n",
       "0 days 11:24:07 -98573.7297  871458.0640  389.0089\n",
       "0 days 11:24:08 -98573.7299  871458.0640  389.0089\n",
       "0 days 11:24:09 -98573.7300  871458.0642  389.0088\n",
       "0 days 11:24:10 -98573.7299  871458.0643  389.0088\n",
       "0 days 11:24:11 -98573.7302  871458.0640  389.0086"
      ]
     },
     "execution_count": 6,
     "metadata": {},
     "output_type": "execute_result"
    }
   ],
   "source": [
    "time = [41047, 41048, 41049, 41050, 41051]\n",
    "time = pd.TimedeltaIndex([pd.to_timedelta(i, unit=\"s\") for i in time], name=\"time\")\n",
    "expected = DataFrame(\n",
    "    {\n",
    "        \"e\": [-98573.7297, -98573.7299, -98573.7300, -98573.7299, -98573.7302],\n",
    "        \"n\": [871458.0640, 871458.0640, 871458.0642, 871458.0643, 871458.0640],\n",
    "        \"h\": [389.0089, 389.0089, 389.0088, 389.0088, 389.0086],\n",
    "    },\n",
    "    index=time,\n",
    ")\n",
    "expected"
   ]
  },
  {
   "cell_type": "code",
   "execution_count": 18,
   "metadata": {},
   "outputs": [
    {
     "ename": "AttributeError",
     "evalue": "'str' object has no attribute 'astype'",
     "output_type": "error",
     "traceback": [
      "\u001b[0;31m---------------------------------------------------------------------------\u001b[0m",
      "\u001b[0;31mAttributeError\u001b[0m                            Traceback (most recent call last)",
      "\u001b[1;32m/home/shinseitaro/workspace/github/finpy/pandas-code-reading/2022-04-26/test.ipynb Cell 5'\u001b[0m in \u001b[0;36m<cell line: 7>\u001b[0;34m()\u001b[0m\n\u001b[1;32m      <a href='vscode-notebook-cell:/home/shinseitaro/workspace/github/finpy/pandas-code-reading/2022-04-26/test.ipynb#ch0000003?line=3'>4</a>\u001b[0m     \u001b[39mreturn\u001b[39;00m pd\u001b[39m.\u001b[39mto_timedelta(time, unit\u001b[39m=\u001b[39m\u001b[39m\"\u001b[39m\u001b[39ms\u001b[39m\u001b[39m\"\u001b[39m)\n\u001b[1;32m      <a href='vscode-notebook-cell:/home/shinseitaro/workspace/github/finpy/pandas-code-reading/2022-04-26/test.ipynb#ch0000003?line=5'>6</a>\u001b[0m \u001b[39m# __custom_date_parser(41047.00)\u001b[39;00m\n\u001b[0;32m----> <a href='vscode-notebook-cell:/home/shinseitaro/workspace/github/finpy/pandas-code-reading/2022-04-26/test.ipynb#ch0000003?line=6'>7</a>\u001b[0m __custom_date_parser(\u001b[39m\"\u001b[39;49m\u001b[39m41047.00\u001b[39;49m\u001b[39m\"\u001b[39;49m)\n",
      "\u001b[1;32m/home/shinseitaro/workspace/github/finpy/pandas-code-reading/2022-04-26/test.ipynb Cell 5'\u001b[0m in \u001b[0;36m__custom_date_parser\u001b[0;34m(time)\u001b[0m\n\u001b[1;32m      <a href='vscode-notebook-cell:/home/shinseitaro/workspace/github/finpy/pandas-code-reading/2022-04-26/test.ipynb#ch0000003?line=0'>1</a>\u001b[0m \u001b[39mdef\u001b[39;00m \u001b[39m__custom_date_parser\u001b[39m(time):\n\u001b[0;32m----> <a href='vscode-notebook-cell:/home/shinseitaro/workspace/github/finpy/pandas-code-reading/2022-04-26/test.ipynb#ch0000003?line=1'>2</a>\u001b[0m     time \u001b[39m=\u001b[39m time\u001b[39m.\u001b[39;49mastype(np\u001b[39m.\u001b[39mfloat_)\n\u001b[1;32m      <a href='vscode-notebook-cell:/home/shinseitaro/workspace/github/finpy/pandas-code-reading/2022-04-26/test.ipynb#ch0000003?line=2'>3</a>\u001b[0m     time \u001b[39m=\u001b[39m time\u001b[39m.\u001b[39mastype(np\u001b[39m.\u001b[39mint_)  \u001b[39m# convert float seconds to int type\u001b[39;00m\n\u001b[1;32m      <a href='vscode-notebook-cell:/home/shinseitaro/workspace/github/finpy/pandas-code-reading/2022-04-26/test.ipynb#ch0000003?line=3'>4</a>\u001b[0m     \u001b[39mreturn\u001b[39;00m pd\u001b[39m.\u001b[39mto_timedelta(time, unit\u001b[39m=\u001b[39m\u001b[39m\"\u001b[39m\u001b[39ms\u001b[39m\u001b[39m\"\u001b[39m)\n",
      "\u001b[0;31mAttributeError\u001b[0m: 'str' object has no attribute 'astype'"
     ]
    }
   ],
   "source": [
    "def __custom_date_parser(time):\n",
    "    time = time.astype(np.float_)\n",
    "    time = time.astype(np.int_)  # convert float seconds to int type\n",
    "    return pd.to_timedelta(time, unit=\"s\")\n",
    "\n",
    "# __custom_date_parser(41047.00)\n",
    "__custom_date_parser(\"41047.00\")"
   ]
  },
  {
   "cell_type": "code",
   "execution_count": null,
   "metadata": {},
   "outputs": [],
   "source": []
  }
 ],
 "metadata": {
  "interpreter": {
   "hash": "34ebe98b14d41b55721c0e7901bfd495e15cf0280eb08835cf6d9e2b9a56e610"
  },
  "kernelspec": {
   "display_name": "Python 3.9.7 ('.venv': venv)",
   "language": "python",
   "name": "python3"
  },
  "language_info": {
   "codemirror_mode": {
    "name": "ipython",
    "version": 3
   },
   "file_extension": ".py",
   "mimetype": "text/x-python",
   "name": "python",
   "nbconvert_exporter": "python",
   "pygments_lexer": "ipython3",
   "version": "3.9.7"
  },
  "orig_nbformat": 4
 },
 "nbformat": 4,
 "nbformat_minor": 2
}
